{
 "cells": [
  {
   "cell_type": "code",
   "execution_count": 14,
   "id": "7f16166c-9637-4760-a00c-42832909489a",
   "metadata": {},
   "outputs": [
    {
     "name": "stdout",
     "output_type": "stream",
     "text": [
      "[[2 4]\n",
      " [8 6]]\n",
      "[[ 1  4]\n",
      " [16  9]]\n",
      "[[ 9  8]\n",
      " [16 17]]\n"
     ]
    },
    {
     "data": {
      "image/png": "[encoded data removed]",
      "text/plain": [
       "<Figure size 432x288 with 1 Axes>"
      ]
     },
     "metadata": {
      "needs_background": "light"
     },
     "output_type": "display_data"
    }
   ],
   "source": [
    "import numpy as np\n",
    "import matplotlib.pyplot as plt\n",
    "\n",
    "def sigmoid(x):\n",
    "    return 1 / (1 + np.exp(-x))\n",
    "\n",
    "x = np.arange(-100, 100) \n",
    "vsigmoid = np.vectorize(sigmoid)\n",
    "vsigmoid(x)\n",
    "\n",
    "y = vsigmoid(x)\n",
    "plt.plot(x,y, label=\"test\")\n",
    "\n",
    "A = np.array([[1,2],[4,3]])\n",
    "B = np.array([[1,2],[4,3]])\n",
    "print(A + B)\n",
    "print(A * B)\n",
    "print(np.dot(A,B))"
   ]
  },
  {
   "cell_type": "code",
   "execution_count": null,
   "id": "be029deb-4b8d-4e8c-b709-44a1a8e6cf4c",
   "metadata": {},
   "outputs": [],
   "source": []
  }
 ],
 "metadata": {
  "kernelspec": {
   "display_name": "Python 3 (ipykernel)",
   "language": "python",
   "name": "python3"
  },
  "language_info": {
   "codemirror_mode": {
    "name": "ipython",
    "version": 3
   },
   "file_extension": ".py",
   "mimetype": "text/x-python",
   "name": "python",
   "nbconvert_exporter": "python",
   "pygments_lexer": "ipython3",
   "version": "3.10.5"
  }
 },
 "nbformat": 4,
 "nbformat_minor": 5
}
